{
 "cells": [
  {
   "cell_type": "code",
   "execution_count": 102,
   "metadata": {},
   "outputs": [
    {
     "data": {
      "text/plain": [
       "'\\nPREPARAÇÃO DOS DADOS\\n'"
      ]
     },
     "execution_count": 102,
     "metadata": {},
     "output_type": "execute_result"
    }
   ],
   "source": [
    "'''\n",
    "PREPARAÇÃO DOS DADOS\n",
    "'''"
   ]
  },
  {
   "cell_type": "code",
   "execution_count": 224,
   "metadata": {},
   "outputs": [
    {
     "name": "stdout",
     "output_type": "stream",
     "text": [
      "Preparações realizadas com sucesso.\n"
     ]
    }
   ],
   "source": [
    "import numpy as np\n",
    "import pandas as pd\n",
    "import os, re, operator\n",
    "from pprint import pprint\n",
    "\n",
    "from src.utils import *\n",
    "from src.k_nearest_neighbors import *\n",
    "from src.logistic_regression import *\n",
    "from src.naive_bayes import *\n",
    "from src.neural_network import *\n",
    "#from src.support_vector_machines import *\n",
    "from src.validation import *\n",
    "\n",
    "#Base de dados\n",
    "POSITIVE_TRUTHFUL  = ['op_spam_v1.4/positive/truthful/']\n",
    "POSITIVE_DECEPTIVE = ['op_spam_v1.4/positive/deceptive/']\n",
    "NEGATIVE_TRUTHFUL  = ['op_spam_v1.4/negative/truthful/']\n",
    "NEGATIVE_DECEPTIVE = ['op_spam_v1.4/negative/deceptive/']\n",
    "POSITIVE = [POSITIVE_TRUTHFUL[0], POSITIVE_DECEPTIVE[0]]\n",
    "NEGATIVE = [NEGATIVE_TRUTHFUL[0], NEGATIVE_DECEPTIVE[0]]\n",
    "DECEPTIVE = [POSITIVE_DECEPTIVE[0], NEGATIVE_DECEPTIVE[0]]\n",
    "TRUTHFUL = [POSITIVE_TRUTHFUL[0], NEGATIVE_TRUTHFUL[0]]\n",
    "ALL = [POSITIVE_TRUTHFUL[0], POSITIVE_DECEPTIVE[0],\n",
    "           NEGATIVE_TRUTHFUL[0], NEGATIVE_DECEPTIVE[0]]\n",
    "\n",
    "#Parametros\n",
    "    #Pre-processamento\n",
    "USE_NGRAM = True\n",
    "REMOVE_STOPWORD = True\n",
    "REMOVE_ABOVE_THRESHOLD = 3\n",
    "MIN_GRAM = 1\n",
    "MAX_GRAM = 2\n",
    "NORMALIZE = False\n",
    "SAVE = False\n",
    "\n",
    "    #SVM\n",
    "COST = [i*0.3+0.1 for i in range(0, 100)]\n",
    "GAMMA = [i*0.3+0.1 for i in range(0, 100)]\n",
    "KERNEL = 2\n",
    "\n",
    "    #FOLD\n",
    "K_FOLD = 5\n",
    "\n",
    "    #Outras constants\n",
    "EMPTY = ''\n",
    "ZERO = 0\n",
    "ONE = 1\n",
    "ENGLISH = 'english'\n",
    "STOPWORDS = 'stopwords'\n",
    "\n",
    "if K_FOLD == ZERO:\n",
    "    raise Exception('Error on parameter for generate folds.')\n",
    "if MIN_GRAM > MAX_GRAM or MIN_GRAM < ONE or MAX_GRAM < ONE:\n",
    "    raise Exception('Error on parameter for N-Gram.')\n",
    "    \n",
    "print('Preparações realizadas com sucesso.')"
   ]
  },
  {
   "cell_type": "code",
   "execution_count": 225,
   "metadata": {},
   "outputs": [
    {
     "name": "stderr",
     "output_type": "stream",
     "text": [
      "[nltk_data] Downloading package stopwords to\n",
      "[nltk_data]     C:\\Users\\matna\\AppData\\Roaming\\nltk_data...\n",
      "[nltk_data]   Package stopwords is already up-to-date!\n"
     ]
    }
   ],
   "source": [
    "# Remoção de Stop Words\n",
    "import nltk\n",
    "from nltk.corpus import stopwords\n",
    "\n",
    "# Download do dicionário de stop wordsgreat\n",
    "nltk.download(STOPWORDS)\n",
    "\n",
    "def stopwords_removal(tokens_list):\n",
    "    '''\n",
    "        Dado uma lista de tokens.\n",
    "        Então é removido as stopwords.\n",
    "        \n",
    "        Entrada: tokens_list - Uma lista de tokens.\n",
    "        Saida: new_tokens_list - Uma lista de tokens.\n",
    "    '''\n",
    "    if len(tokens_list) == ZERO:\n",
    "        raise Exception('Error on stopwords_removal.')\n",
    "        \n",
    "    new_tokens_list = []\n",
    "    \n",
    "    stop_words = stopwords.words(ENGLISH)\n",
    "    new_tokens_list = [token for token in tokens_list if token not in stop_words]\n",
    "    \n",
    "    if len(new_tokens_list) == ZERO:\n",
    "        raise Exception('Error on stopwords_removal.')\n",
    "        \n",
    "    return new_tokens_list"
   ]
  },
  {
   "cell_type": "code",
   "execution_count": 226,
   "metadata": {},
   "outputs": [],
   "source": [
    "# N-gram dos tokens\n",
    "def generate_ngram(tokens_list):\n",
    "    '''\n",
    "        Dado uma lista de tokens.\n",
    "        Então é gerado N-Gram com base no MAX_GRAM e MIN_GRAM.\n",
    "        \n",
    "        Entrada: tokens_list - Uma lista de tokens.\n",
    "        Saida: allNGrams - Uma lista de N-Gram.\n",
    "    '''\n",
    "    if len(tokens_list) == ZERO:\n",
    "        raise Exception('Error on generate_ngram.')\n",
    "        \n",
    "    allNGrams = []\n",
    "    \n",
    "    #N-Gram\n",
    "    for idx in range(MIN_GRAM, MAX_GRAM+1):\n",
    "        ngrams = zip(*[tokens_list[i:] for i in range(idx)])\n",
    "        allNGrams += ([\" \".join(ngram) for ngram in ngrams])\n",
    "    \n",
    "    if len(allNGrams) == ZERO:\n",
    "        raise Exception('Error on generate_ngram.')\n",
    "        \n",
    "    return allNGrams"
   ]
  },
  {
   "cell_type": "code",
   "execution_count": 227,
   "metadata": {},
   "outputs": [],
   "source": [
    "# Remoção de features irrelevantes por threshold\n",
    "def features_removal(features_dic, threshold):\n",
    "    '''\n",
    "        Dado um dicionario de features e um threshold.\n",
    "        Então o dicionario é filtrado pelo numero do threshold.\n",
    "        \n",
    "        Entrada: features_dic - Um dicionario de features.\n",
    "                 threshold - Um inteiro para limitar o minimo de ocorrencias de um item do dicionario.\n",
    "        Saida: new_features_list - Um dicionario de features filtradas.\n",
    "               new_features_dic - Um dicionario com as features filtradas.\n",
    "    '''\n",
    "    if len(features_dic) == ZERO or threshold < ONE:\n",
    "        raise Exception('Error on features_removal.')\n",
    "\n",
    "    new_features_dic = {}\n",
    "    \n",
    "    #Remove values < threshold\n",
    "    for key, value in features_dic.items():\n",
    "        if value > threshold:\n",
    "            new_features_dic[key] = value\n",
    "\n",
    "    new_features_list = [k for k, v in new_features_dic.items()]\n",
    "    new_features_dic = sorted(new_features_dic.items(), key=operator.itemgetter(1))\n",
    "    \n",
    "    if len(new_features_list) == ZERO or len(new_features_dic) == ZERO:\n",
    "        raise Exception('Error on features_removal.')\n",
    "        \n",
    "    return new_features_dic, new_features_list"
   ]
  },
  {
   "cell_type": "code",
   "execution_count": 228,
   "metadata": {
    "scrolled": true
   },
   "outputs": [
    {
     "name": "stdout",
     "output_type": "stream",
     "text": [
      "Pre-processamento finalizado.\n",
      "Foram gerados 3294 features.\n"
     ]
    }
   ],
   "source": [
    "# Tokenização dos textos\n",
    "def pre_processing(paths, stopwords=False, ngram=False, threshold=0):\n",
    "    '''\n",
    "        Dado arquivos de textos.\n",
    "        Então o texto é limpo (são removidos pontuação) e\n",
    "            aplicado alguns métodos como remoção de stopwords, N-Gram e filtragem por threshold.\n",
    "        \n",
    "        Entrada: paths - Um dicionario de features.\n",
    "                 stopwords - Um boolean indicando se é para utilizar este método.\n",
    "                 ngram - Um boolean indicando se é para utilizar este método.\n",
    "                 threshold - Um inteiro maior que zero que é utilizado na função features_removal.\n",
    "        Saida: token_list - Uma lista contendo todas as features.\n",
    "               token_dic - Um dicionario com as features e a sua ocorrencia.\n",
    "    '''\n",
    "    if len(paths) == ZERO:\n",
    "        raise Exception('Error on pre_processing.')\n",
    "        \n",
    "    token_dic = {}\n",
    "    dirs =[]\n",
    "    token_list = []\n",
    "    \n",
    "    #Juntando arquivos de texto\n",
    "    for p in paths:\n",
    "        text_path = [p + t for t in os.listdir(p)]\n",
    "        dirs += (text_path)\n",
    "    \n",
    "    for texts in dirs:\n",
    "        with open(texts, 'r', encoding='utf-8') as stream:\n",
    "            tokens = []\n",
    "            text = stream.read()\n",
    "\n",
    "            #Tokenizando o texto\n",
    "            tokens = [word for word in (re.sub(r'[^\\w\\s]+','', text.replace('\\n','')).lower().split(' ')) if word != '']\n",
    "            \n",
    "            #Tratando stopwords\n",
    "            if stopwords:\n",
    "                tokens = stopwords_removal(tokens)\n",
    "            \n",
    "            #Aplicando ngram\n",
    "            if ngram:\n",
    "                tokens = generate_ngram(tokens)\n",
    "            \n",
    "            #Criando dicionario de palavras\n",
    "            for token in tokens:\n",
    "                if token in token_dic:\n",
    "                    token_dic[token] += 1\n",
    "                else:\n",
    "                    token_dic[token] = 1\n",
    "    \n",
    "    #Removendo palavras com base no threshold\n",
    "    if threshold > ZERO:\n",
    "        token_dic, token_list = features_removal(token_dic, threshold)\n",
    "    \n",
    "    if len(token_dic) == ZERO or len(token_list) == ZERO:\n",
    "        raise Exception('Error on pre_processing.')\n",
    "        \n",
    "    return token_dic, token_list\n",
    "\n",
    "dicFeatures, listFeatures = pre_processing(DECEPTIVE, REMOVE_STOPWORD, USE_NGRAM, REMOVE_ABOVE_THRESHOLD)\n",
    "print('Pre-processamento finalizado.')\n",
    "print('Foram gerados {} features.'.format(len(listFeatures)))"
   ]
  },
  {
   "cell_type": "code",
   "execution_count": 229,
   "metadata": {},
   "outputs": [
    {
     "name": "stdout",
     "output_type": "stream",
     "text": [
      "Tratamento finalizado.\n"
     ]
    }
   ],
   "source": [
    "#Gera a matriz de features X e o vetor de classes Y\n",
    "X = []\n",
    "Y = []\n",
    "\n",
    "def generateFeatures(paths, listFeatures, stopwords=False, ngram=False, threshold=0, example_class=0):\n",
    "    '''\n",
    "        Dado arquivos de textos.\n",
    "        Então o dicionario é filtrado pelo numero do threshold\n",
    "            e é gerado uma matriz que faz a contagem das features por texto.\n",
    "        \n",
    "        Entrada: paths - Textos a serem analizados para a geração das features.\n",
    "                 listFeatures - Uma lista de features.\n",
    "                 stopwords - Um boolean indicando se é para utilizar este método.\n",
    "                 ngram - Um boolean indicando se é para utilizar este método.\n",
    "                 threshold - Um inteiro maior que zero que é utilizado na função features_removal.\n",
    "        Saida: Nenhuma.\n",
    "    '''\n",
    "    if len(paths) == ZERO:\n",
    "        raise Exception('Error on generateFeatures.')\n",
    "        \n",
    "    dirs = []\n",
    "    \n",
    "    for p in paths:\n",
    "        text_path = [p + t for t in os.listdir(p)]\n",
    "        dirs += (text_path)\n",
    "    \n",
    "    for texts in dirs:\n",
    "        row = np.zeros(len(listFeatures))\n",
    "        with open(texts, 'r', encoding='utf-8') as stream:\n",
    "            tokens = []\n",
    "            text = stream.read()\n",
    "\n",
    "            #Pre processing\n",
    "            tokens = [word for word in (re.sub(r'[^\\w\\s]+','', text.replace('\\n','')).lower().split(' ')) if word != '']\n",
    "            \n",
    "            if stopwords:\n",
    "                tokens = stopwords_removal(tokens)\n",
    "            \n",
    "            if ngram:\n",
    "                tokens = generate_ngram(tokens)\n",
    "            \n",
    "            for token in tokens:\n",
    "                for idx, feature in enumerate(listFeatures):\n",
    "                    if token == feature:\n",
    "                        row[idx] += 1\n",
    "                        \n",
    "            Y.append(example_class)\n",
    "            X.append(row)\n",
    "    \n",
    "generateFeatures(NEGATIVE_DECEPTIVE, listFeatures, REMOVE_STOPWORD, USE_NGRAM, REMOVE_ABOVE_THRESHOLD, 1)\n",
    "generateFeatures(NEGATIVE_TRUTHFUL, listFeatures, REMOVE_STOPWORD, USE_NGRAM, REMOVE_ABOVE_THRESHOLD, 0)\n",
    "generateFeatures(POSITIVE_DECEPTIVE, listFeatures, REMOVE_STOPWORD, USE_NGRAM, REMOVE_ABOVE_THRESHOLD, 1)\n",
    "generateFeatures(POSITIVE_TRUTHFUL, listFeatures, REMOVE_STOPWORD, USE_NGRAM, REMOVE_ABOVE_THRESHOLD, 0)\n",
    "\n",
    "#Transformando X e Y que são listas em array\n",
    "X = np.array(X)\n",
    "Y = np.array(Y)\n",
    "print('Tratamento finalizado.')"
   ]
  },
  {
   "cell_type": "code",
   "execution_count": 230,
   "metadata": {},
   "outputs": [],
   "source": [
    "#Salva os dados\n",
    "if SAVE == True:\n",
    "    save(np.column_stack((X, Y)), listFeatures, 'matrix_x')\n",
    "    print('Dados salvos.')"
   ]
  },
  {
   "cell_type": "code",
   "execution_count": 231,
   "metadata": {},
   "outputs": [],
   "source": [
    "#Normaliza os dados\n",
    "X_norm = []\n",
    "mu = 0\n",
    "sigma = 0\n",
    "\n",
    "if NORMALIZE == True:\n",
    "    X_norm, mu, sigma = normalize(X)\n",
    "    print('Dados normalizados.')"
   ]
  },
  {
   "cell_type": "code",
   "execution_count": 232,
   "metadata": {},
   "outputs": [
    {
     "name": "stdout",
     "output_type": "stream",
     "text": [
      "Foram gerados 5 fold(s)\n",
      "\n",
      "Fold 0 - Treino: 1280\n",
      "Fold 0 - Teste:  320\n",
      "\n",
      "Fold 1 - Treino: 1280\n",
      "Fold 1 - Teste:  320\n",
      "\n",
      "Fold 2 - Treino: 1280\n",
      "Fold 2 - Teste:  320\n",
      "\n",
      "Fold 3 - Treino: 1280\n",
      "Fold 3 - Teste:  320\n",
      "\n",
      "Fold 4 - Treino: 1280\n",
      "Fold 4 - Teste:  320\n",
      "\n"
     ]
    }
   ],
   "source": [
    "#Gera os folds necessários para os treinamentos  \n",
    "folds = stratified_kfolds(Y, K_FOLD, np.unique(Y))\n",
    "\n",
    "print(\"Foram gerados {} fold(s)\".format(K_FOLD), end='\\n\\n')\n",
    "idx = 0\n",
    "for train_index, test_index in folds:\n",
    "    print('Fold {} - Treino: {}'.format(idx, len(train_index)))\n",
    "    print('Fold {} - Teste:  {}'.format(idx, len(test_index)), end='\\n\\n')\n",
    "    idx += 1"
   ]
  },
  {
   "cell_type": "code",
   "execution_count": 233,
   "metadata": {},
   "outputs": [
    {
     "data": {
      "text/plain": [
       "'\\nNAIVE BAYES\\n'"
      ]
     },
     "execution_count": 233,
     "metadata": {},
     "output_type": "execute_result"
    }
   ],
   "source": [
    "'''\n",
    "NAIVE BAYES\n",
    "'''"
   ]
  },
  {
   "cell_type": "code",
   "execution_count": 234,
   "metadata": {},
   "outputs": [
    {
     "name": "stdout",
     "output_type": "stream",
     "text": [
      "\n",
      "\tRevocacao   Precisao   F-medida   Classe\n",
      "\t0.787       0.834      0.808      0\n",
      "\t0.840       0.801      0.818      1\n",
      "\t---------------------------------------------------------------------\n",
      "\t0.814       0.817      0.813      Média macro\n",
      "\t0.814       0.814      0.814      Média micro\n",
      "\n",
      "\tAcuracia: 0.814\n"
     ]
    }
   ],
   "source": [
    "# Multinomial Naive Bayes\n",
    "def multionomial_naiveBayes(folds, X, Y):\n",
    "    '''\n",
    "        Dado os folds, X e Y.\n",
    "        Então é executado o algoritmo naive bayes para cada fold.\n",
    "        \n",
    "        Entrada: folds - Folds para serem testados.\n",
    "                 X - Matriz de conjunto de dados.\n",
    "                 Y - Lista com as classes correspondente aos dados da matriz X.\n",
    "        Saida: resultados - Lista de resultados para cada fold.\n",
    "               classes - Lista com as classes baseada na lista Y.\n",
    "    '''\n",
    "    resultados = []\n",
    "    classes = np.unique(Y)\n",
    "\n",
    "    for train_index, test_index in folds:\n",
    "        # Treinamento\n",
    "        probsPos, probsNeg = mult_nb_calcular_probabilidades(X[train_index], Y[train_index])\n",
    "\n",
    "        # Classificação\n",
    "        pred = []\n",
    "        for x in X[test_index]:\n",
    "            pred.append(mult_nb_classificacao(x, probsPos, probsNeg, sum(Y == 1)/len(Y), sum(Y == 0)/len(Y)))\n",
    "\n",
    "        cm = get_confusionMatrix(Y[test_index], pred, np.unique(Y))\n",
    "        resultado = relatorioDesempenho(cm, classes, False)\n",
    "\n",
    "        resultados.append(resultado)\n",
    "    \n",
    "    return resultados, classes\n",
    "\n",
    "resultados, classes = multionomial_naiveBayes(folds, X, Y)\n",
    "mediaFolds(resultados, classes)"
   ]
  },
  {
   "cell_type": "code",
   "execution_count": 14,
   "metadata": {},
   "outputs": [
    {
     "ename": "KeyboardInterrupt",
     "evalue": "",
     "output_type": "error",
     "traceback": [
      "\u001b[1;31m---------------------------------------------------------------------------\u001b[0m",
      "\u001b[1;31mKeyboardInterrupt\u001b[0m                         Traceback (most recent call last)",
      "\u001b[1;32m<ipython-input-14-d95f33a7041f>\u001b[0m in \u001b[0;36m<module>\u001b[1;34m\u001b[0m\n\u001b[0;32m     29\u001b[0m     \u001b[1;32mreturn\u001b[0m \u001b[0mresultados\u001b[0m\u001b[1;33m,\u001b[0m \u001b[0mclasses\u001b[0m\u001b[1;33m\u001b[0m\u001b[1;33m\u001b[0m\u001b[0m\n\u001b[0;32m     30\u001b[0m \u001b[1;33m\u001b[0m\u001b[0m\n\u001b[1;32m---> 31\u001b[1;33m \u001b[0mresultados\u001b[0m\u001b[1;33m,\u001b[0m \u001b[0mclasses\u001b[0m \u001b[1;33m=\u001b[0m \u001b[0mK_Nearest_Neighbors\u001b[0m\u001b[1;33m(\u001b[0m\u001b[0mfolds\u001b[0m\u001b[1;33m,\u001b[0m \u001b[0mX\u001b[0m\u001b[1;33m,\u001b[0m \u001b[0mY\u001b[0m\u001b[1;33m)\u001b[0m\u001b[1;33m\u001b[0m\u001b[1;33m\u001b[0m\u001b[0m\n\u001b[0m\u001b[0;32m     32\u001b[0m \u001b[0mmediaFolds\u001b[0m\u001b[1;33m(\u001b[0m\u001b[0mresultados\u001b[0m\u001b[1;33m,\u001b[0m \u001b[0mclasses\u001b[0m\u001b[1;33m)\u001b[0m\u001b[1;33m\u001b[0m\u001b[1;33m\u001b[0m\u001b[0m\n",
      "\u001b[1;32m<ipython-input-14-d95f33a7041f>\u001b[0m in \u001b[0;36mK_Nearest_Neighbors\u001b[1;34m(folds, X, Y)\u001b[0m\n\u001b[0;32m     19\u001b[0m         \u001b[0mK\u001b[0m \u001b[1;33m=\u001b[0m \u001b[1;36m3\u001b[0m\u001b[1;33m\u001b[0m\u001b[1;33m\u001b[0m\u001b[0m\n\u001b[0;32m     20\u001b[0m         \u001b[1;32mfor\u001b[0m \u001b[0mx\u001b[0m \u001b[1;32min\u001b[0m \u001b[0mX\u001b[0m\u001b[1;33m[\u001b[0m\u001b[0mtest_index\u001b[0m\u001b[1;33m]\u001b[0m\u001b[1;33m:\u001b[0m\u001b[1;33m\u001b[0m\u001b[1;33m\u001b[0m\u001b[0m\n\u001b[1;32m---> 21\u001b[1;33m             \u001b[0my\u001b[0m\u001b[1;33m,\u001b[0m \u001b[0mind_viz\u001b[0m \u001b[1;33m=\u001b[0m \u001b[0mknn\u001b[0m\u001b[1;33m(\u001b[0m\u001b[0mx\u001b[0m\u001b[1;33m,\u001b[0m \u001b[0mX\u001b[0m\u001b[1;33m,\u001b[0m \u001b[0mY\u001b[0m\u001b[1;33m,\u001b[0m \u001b[0mK\u001b[0m\u001b[1;33m)\u001b[0m\u001b[1;33m\u001b[0m\u001b[1;33m\u001b[0m\u001b[0m\n\u001b[0m\u001b[0;32m     22\u001b[0m             \u001b[0mpred\u001b[0m\u001b[1;33m.\u001b[0m\u001b[0mappend\u001b[0m\u001b[1;33m(\u001b[0m\u001b[0my\u001b[0m\u001b[1;33m)\u001b[0m\u001b[1;33m\u001b[0m\u001b[1;33m\u001b[0m\u001b[0m\n\u001b[0;32m     23\u001b[0m \u001b[1;33m\u001b[0m\u001b[0m\n",
      "\u001b[1;32m~\\Documents\\AM\\trab\\machine_learn_project\\src\\k_nearest_neighbors.py\u001b[0m in \u001b[0;36mknn\u001b[1;34m(x, X, Y, K)\u001b[0m\n\u001b[0;32m     42\u001b[0m \u001b[1;33m\u001b[0m\u001b[0m\n\u001b[0;32m     43\u001b[0m     \u001b[1;31m# Ordena o vetor de distâncias, retornando um vetor de indices da amostra mais próxima à mais distante\u001b[0m\u001b[1;33m\u001b[0m\u001b[1;33m\u001b[0m\u001b[1;33m\u001b[0m\u001b[0m\n\u001b[1;32m---> 44\u001b[1;33m     \u001b[0midx_dists\u001b[0m \u001b[1;33m=\u001b[0m \u001b[0mnp\u001b[0m\u001b[1;33m.\u001b[0m\u001b[0margsort\u001b[0m\u001b[1;33m(\u001b[0m\u001b[0mdistancias\u001b[0m\u001b[1;33m)\u001b[0m\u001b[1;33m\u001b[0m\u001b[1;33m\u001b[0m\u001b[0m\n\u001b[0m\u001b[0;32m     45\u001b[0m \u001b[1;33m\u001b[0m\u001b[0m\n\u001b[0;32m     46\u001b[0m     \u001b[1;31m# Seleciona os K vizinhos mais próximos\u001b[0m\u001b[1;33m\u001b[0m\u001b[1;33m\u001b[0m\u001b[1;33m\u001b[0m\u001b[0m\n",
      "\u001b[1;32m~\\Anaconda3\\lib\\site-packages\\numpy\\core\\fromnumeric.py\u001b[0m in \u001b[0;36margsort\u001b[1;34m(a, axis, kind, order)\u001b[0m\n\u001b[0;32m   1032\u001b[0m \u001b[1;33m\u001b[0m\u001b[0m\n\u001b[0;32m   1033\u001b[0m     \"\"\"\n\u001b[1;32m-> 1034\u001b[1;33m     \u001b[1;32mreturn\u001b[0m \u001b[0m_wrapfunc\u001b[0m\u001b[1;33m(\u001b[0m\u001b[0ma\u001b[0m\u001b[1;33m,\u001b[0m \u001b[1;34m'argsort'\u001b[0m\u001b[1;33m,\u001b[0m \u001b[0maxis\u001b[0m\u001b[1;33m=\u001b[0m\u001b[0maxis\u001b[0m\u001b[1;33m,\u001b[0m \u001b[0mkind\u001b[0m\u001b[1;33m=\u001b[0m\u001b[0mkind\u001b[0m\u001b[1;33m,\u001b[0m \u001b[0morder\u001b[0m\u001b[1;33m=\u001b[0m\u001b[0morder\u001b[0m\u001b[1;33m)\u001b[0m\u001b[1;33m\u001b[0m\u001b[1;33m\u001b[0m\u001b[0m\n\u001b[0m\u001b[0;32m   1035\u001b[0m \u001b[1;33m\u001b[0m\u001b[0m\n\u001b[0;32m   1036\u001b[0m \u001b[1;33m\u001b[0m\u001b[0m\n",
      "\u001b[1;32m~\\Anaconda3\\lib\\site-packages\\numpy\\core\\fromnumeric.py\u001b[0m in \u001b[0;36m_wrapfunc\u001b[1;34m(obj, method, *args, **kwds)\u001b[0m\n\u001b[0;32m     54\u001b[0m \u001b[1;32mdef\u001b[0m \u001b[0m_wrapfunc\u001b[0m\u001b[1;33m(\u001b[0m\u001b[0mobj\u001b[0m\u001b[1;33m,\u001b[0m \u001b[0mmethod\u001b[0m\u001b[1;33m,\u001b[0m \u001b[1;33m*\u001b[0m\u001b[0margs\u001b[0m\u001b[1;33m,\u001b[0m \u001b[1;33m**\u001b[0m\u001b[0mkwds\u001b[0m\u001b[1;33m)\u001b[0m\u001b[1;33m:\u001b[0m\u001b[1;33m\u001b[0m\u001b[1;33m\u001b[0m\u001b[0m\n\u001b[0;32m     55\u001b[0m     \u001b[1;32mtry\u001b[0m\u001b[1;33m:\u001b[0m\u001b[1;33m\u001b[0m\u001b[1;33m\u001b[0m\u001b[0m\n\u001b[1;32m---> 56\u001b[1;33m         \u001b[1;32mreturn\u001b[0m \u001b[0mgetattr\u001b[0m\u001b[1;33m(\u001b[0m\u001b[0mobj\u001b[0m\u001b[1;33m,\u001b[0m \u001b[0mmethod\u001b[0m\u001b[1;33m)\u001b[0m\u001b[1;33m(\u001b[0m\u001b[1;33m*\u001b[0m\u001b[0margs\u001b[0m\u001b[1;33m,\u001b[0m \u001b[1;33m**\u001b[0m\u001b[0mkwds\u001b[0m\u001b[1;33m)\u001b[0m\u001b[1;33m\u001b[0m\u001b[1;33m\u001b[0m\u001b[0m\n\u001b[0m\u001b[0;32m     57\u001b[0m \u001b[1;33m\u001b[0m\u001b[0m\n\u001b[0;32m     58\u001b[0m     \u001b[1;31m# An AttributeError occurs if the object does not have\u001b[0m\u001b[1;33m\u001b[0m\u001b[1;33m\u001b[0m\u001b[1;33m\u001b[0m\u001b[0m\n",
      "\u001b[1;31mKeyboardInterrupt\u001b[0m: "
     ]
    }
   ],
   "source": [
    "# KNN\n",
    "def K_Nearest_Neighbors(folds, X, Y):\n",
    "    '''\n",
    "        Dado os folds, X e Y.\n",
    "        Então é executado o algoritmo KNN para cada fold.\n",
    "        \n",
    "        Entrada: folds - Folds para serem testados.\n",
    "                 X - Matriz de conjunto de dados.\n",
    "                 Y - Lista com as classes correspondente aos dados da matriz X.\n",
    "        Saida: resultados - Lista de resultados para cada fold.\n",
    "               classes - Lista com as classes baseada na lista Y.\n",
    "    '''\n",
    "    resultados = []\n",
    "    classes = np.unique(Y)\n",
    "\n",
    "    for train_index, test_index in folds:\n",
    "        # Classificação\n",
    "        pred = []\n",
    "        K = 3\n",
    "        for x in X[test_index]:\n",
    "            y, ind_viz = knn(x, X, Y, K)\n",
    "            pred.append(y)\n",
    "\n",
    "        cm = get_confusionMatrix(Y[test_index], pred, np.unique(Y))\n",
    "        resultado = relatorioDesempenho(cm, classes, False)\n",
    "\n",
    "        resultados.append(resultado)\n",
    "    \n",
    "    return resultados, classes\n",
    "\n",
    "resultados, classes = K_Nearest_Neighbors(folds, X, Y)\n",
    "mediaFolds(resultados, classes)"
   ]
  },
  {
   "cell_type": "code",
   "execution_count": null,
   "metadata": {},
   "outputs": [],
   "source": [
    "'''\n",
    "REDE NEURAL\n",
    "'''"
   ]
  },
  {
   "cell_type": "code",
   "execution_count": null,
   "metadata": {},
   "outputs": [],
   "source": [
    "# Rede Neural\n",
    "from datetime import datetime\n",
    "def redeNeural(folds, X, Y):\n",
    "    '''\n",
    "        Dado os folds, X e Y.\n",
    "        Então é executado o algoritmo naive bayes para cada fold.\n",
    "        \n",
    "        Entrada: folds - Folds para serem testados.\n",
    "                 X - Matriz de conjunto de dados.\n",
    "                 Y - Lista com as classes correspondente aos dados da matriz X.\n",
    "        Saida: resultados - Lista de resultados para cada fold.\n",
    "               classes - Lista com as classes baseada na lista Y.\n",
    "    '''\n",
    "    resultados = []\n",
    "    \n",
    "    classes = np.unique(Y)\n",
    "    tamanho_entrada = X.shape[1]\n",
    "    tamanho_intermediaria = tamanho_entrada\n",
    "    vLambda = 1\n",
    "    \n",
    "    Theta1 = inicializaPesosAleatorios(tamanho_entrada, tamanho_intermediaria, randomSeed = 10);\n",
    "    Theta2 = inicializaPesosAleatorios(tamanho_intermediaria, 2, randomSeed = 20);\n",
    "    Thetas = np.concatenate([np.ravel(Theta1), np.ravel(Theta2)])\n",
    "    \n",
    "    for train_index, test_index in folds:\n",
    "        \n",
    "        # Otimização dos Thetas\n",
    "        Theta1, Theta2 = rna_treino(Thetas, tamanho_entrada, tamanho_intermediaria, 2, X[train_index], Y[train_index], vLambda)\n",
    "        \n",
    "        # Classificação\n",
    "        pred = rna_predicao(Theta1, Theta2, X[test_index])        \n",
    "\n",
    "        cm = get_confusionMatrix(Y[test_index], pred, np.unique(Y))\n",
    "        resultado = relatorioDesempenho(cm, classes, False)\n",
    "\n",
    "        resultados.append(resultado)\n",
    "    \n",
    "    return resultados, classes\n",
    "\n",
    "start_time = datetime.now()\n",
    "resultados, classes = redeNeural(folds, X, Y)\n",
    "end_time = datetime.now()\n",
    "print('RNA Duration: {}'.format(end_time - start_time))\n",
    "mediaFolds(resultados, classes)"
   ]
  },
  {
   "cell_type": "code",
   "execution_count": null,
   "metadata": {},
   "outputs": [],
   "source": []
  },
  {
   "cell_type": "code",
   "execution_count": null,
   "metadata": {},
   "outputs": [],
   "source": []
  },
  {
   "cell_type": "code",
   "execution_count": null,
   "metadata": {},
   "outputs": [],
   "source": []
  }
 ],
 "metadata": {
  "kernelspec": {
   "display_name": "Python 3",
   "language": "python",
   "name": "python3"
  }
 },
 "nbformat": 4,
 "nbformat_minor": 2
}

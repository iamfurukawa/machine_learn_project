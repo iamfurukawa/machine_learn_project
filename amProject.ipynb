{
 "cells": [
  {
   "cell_type": "code",
   "execution_count": null,
   "metadata": {},
   "outputs": [],
   "source": [
    "import numpy as np\n",
    "import pandas as pd\n",
    "import os, re, operator\n",
    "from pprint import pprint\n",
    "\n",
    "PATH_POSITIVE_TRUTHFUL  = 'op_spam_v1.4/positive/truthful/'\n",
    "PATH_POSITIVE_DECEPTIVE = 'op_spam_v1.4/positive/deceptive/'\n",
    "PATH_NEGATIVE_TRUTHFUL  = 'op_spam_v1.4/negative/truthful/'\n",
    "PATH_NEGATIVE_DECEPTIVE = 'op_spam_v1.4/negative/deceptive/'\n",
    "ALL_PATH = [PATH_POSITIVE_TRUTHFUL, PATH_POSITIVE_DECEPTIVE,\n",
    "           PATH_NEGATIVE_TRUTHFUL, PATH_NEGATIVE_DECEPTIVE]\n",
    "\n",
    "def wordsProcessed(path):\n",
    "    dic = {}\n",
    "    dic2 = {}\n",
    "    for texts in os.listdir(path):\n",
    "        with open(path + texts, 'r', encoding='utf-8') as stream:\n",
    "            text = stream.read()\n",
    "            wordSplited = []\n",
    "            wordSplited2 = [word for word in (re.sub(r'[^\\w\\s]+','', text.replace('\\n','')).lower().split(' ')) if word != '']\n",
    "            #wordSplited2 = re.sub(r'\\s{2,}', '', re.sub(r'[^\\w\\s]+','', stream.read().replace('\\n',''))).lower().strip().split(' ')\n",
    "            #wordSplited2 = re.sub(r'[^\\w\\s]+','', text.replace('\\n','')).lower().strip().split(' ')\n",
    "\n",
    "            #N-Gram\n",
    "            for index in range(2, 10):\n",
    "                ngrams = zip(*[wordSplited2[i:] for i in range(index)])\n",
    "                wordSplited += ([\" \".join(ngram) for ngram in ngrams])\n",
    "            \n",
    "            #Creating dictonary for count n-gram words\n",
    "            for word in wordSplited:\n",
    "                if word in dic:\n",
    "                    dic[word] += 1\n",
    "                else:\n",
    "                    dic[word] = 1\n",
    "    #Remove values < 2          \n",
    "    for key, value in dic.items():\n",
    "        if value > 2:\n",
    "            dic2[key] = value\n",
    "        \n",
    "    dic2 = sorted(dic2.items(), key=operator.itemgetter(1))\n",
    "    \n",
    "    return wordSplited, dic2\n",
    "\n",
    "posTruthWordSplited, posTruthDic = wordsProcessed(PATH_POSITIVE_TRUTHFUL)\n",
    "\n",
    "pprint(posDecepDic)\n",
    "print(len(posDecepDic))"
   ]
  },
  {
   "cell_type": "code",
   "execution_count": null,
   "metadata": {},
   "outputs": [],
   "source": []
  }
 ],
 "metadata": {
  "kernelspec": {
   "display_name": "Python 3",
   "language": "python",
   "name": "python3"
  },
  "language_info": {
   "codemirror_mode": {
    "name": "ipython",
    "version": 3
   },
   "file_extension": ".py",
   "mimetype": "text/x-python",
   "name": "python",
   "nbconvert_exporter": "python",
   "pygments_lexer": "ipython3",
   "version": "3.7.2"
  }
 },
 "nbformat": 4,
 "nbformat_minor": 2
}

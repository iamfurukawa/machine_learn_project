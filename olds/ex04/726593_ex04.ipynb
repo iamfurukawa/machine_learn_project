{
 "cells": [
  {
   "cell_type": "markdown",
   "metadata": {},
   "source": [
    "# <center> <img src=\"figs/LogoUFSCar.jpg\" alt=\"Logo UFScar\" width=\"110\" align=\"left\"/>  <br/> <center>Universidade Federal de São Carlos (UFSCar)<br/><font size=\"4\"> Departamento de Computação, campus Sorocaba</center></font>\n",
    "</p>\n",
    "\n",
    "<br/>\n",
    "<font size=\"4\"><center><b>Disciplina: Aprendizado de Máquina</b></center></font>\n",
    "  \n",
    "<font size=\"3\"><center>Prof. Dr. Tiago A. Almeida</center></font>\n",
    "\n",
    "<br/>\n",
    "<center><i><b>\n",
    "Atenção: não são autorizadas cópias, divulgações ou qualquer tipo de uso deste material sem o consentimento prévio dos autores.\n",
    "</center></i></b>\n",
    "<br/>"
   ]
  },
  {
   "cell_type": "markdown",
   "metadata": {},
   "source": [
    "## <center> Exercício - Regressão Logística <center>\n",
    "\n",
    "Instruções\n",
    "----------\n",
    "\n",
    "Este arquivo contém o código que auxiliará no desenvolvimento do exercício. Você precisará completar as seguintes funções:\n",
    "\n",
    "* `sigmoid()`\n",
    "* `funcaoCusto()`\n",
    "* `predicao()`\n",
    "* `funcaoCustoReg()`\n",
    "\n",
    "Você não poderá criar nenhuma outra função. Apenas altere as rotinas fornecidas."
   ]
  },
  {
   "cell_type": "markdown",
   "metadata": {},
   "source": [
    "## Introdução\n",
    "\n",
    "Você foi contratado por uma grande empresa de cosméticos para desenvolver um método para classificar diferentes espécies de uma flor. Essencialmente, a empresa está interessada em separar automaticamente espécies de uma flor chamada Iris. Esse tipo de flor é composta por três espécies: **Setosa**, **Virginica** e **Versicolour**, apresentadas na Figura 1. As duas primeiras (Setosa e Virginica) possuem propriedades aromáticas de interesse da empresa, já a última (Versicolour) não pode ser utilizada.\n",
    "\n",
    "Devido à forte semelhança visual entre elas, ocorreu a ideia de que, talvez, seja possível detectar cada espécie pelas medidas de comprimento e largura das pétalas. Com base nessa informação, a empresa criou duas bases de dados pré-classificadas (Setosa + Versicolour e Virginica + Versicolour) com as respectivas medidas das pétalas das flores. A sua função é implementar o método de regressão logística para determinar a espécie de uma Iris a partir dos dados das pétalas.\n",
    "\n",
    "<br>\n",
    "<br>\n",
    "\n",
    "<center>\n",
    "<div style=\"display:inline-block;\">\n",
    "    <div>\n",
    "    <div style=\"padding: 5px; float: left;\">\n",
    "        <img src=\"figs/iris_setosa.jpeg\" style=\"height:180px;\"/>\n",
    "        <center><em>(a) Setosa</em></center>\n",
    "    </div>\n",
    "    <div style=\"padding: 5px; float: left;\">\n",
    "        <img src=\"figs/iris_virginica.jpeg\"  style=\"height:180px;\"/> \n",
    "        <center><em>(b) Virginica</em></center>\n",
    "    </div>\n",
    "    <div style=\"padding: 5px; float: left;\">\n",
    "        <img src=\"figs/iris_versicolour.jpeg\"  style=\"height:180px;\"/>\n",
    "        <center><em>(c) Versicolour</em></center>\n",
    "    </div>\n",
    "    </div>\n",
    "    <center><em>Figura 1. Espécies de Iris.</em></center>\n",
    "</div> \n",
    "</center>"
   ]
  },
  {
   "cell_type": "markdown",
   "metadata": {},
   "source": [
    "## Parte 1: Visualização dos dados\n",
    "\n",
    "Muitas vezes, a visualização dos dados auxilia na interpretação dos mesmos\n",
    "e como eles estão distribuídos. "
   ]
  },
  {
   "cell_type": "markdown",
   "metadata": {},
   "source": [
    "Primeiro, vamos carregar os dados do arquivo."
   ]
  },
  {
   "cell_type": "code",
   "execution_count": 1,
   "metadata": {},
   "outputs": [
    {
     "name": "stdout",
     "output_type": "stream",
     "text": [
      "Dados carregados com sucesso!\n"
     ]
    }
   ],
   "source": [
    "# -*- coding: utf-8 -*-\n",
    "\n",
    "import numpy as np #importa a biblioteca usada para trabalhar com vetores de matrizes\n",
    "import pandas as pd #importa a biblioteca usada para trabalhar com dataframes (dados em formato de tabela) e análise de dados\n",
    "\n",
    "# Importa o arquivo e guarda em um dataframe do Pandas\n",
    "df_dataset = pd.read_csv( 'dados.csv', sep=',', index_col=None)\n",
    "\n",
    "print('Dados carregados com sucesso!')"
   ]
  },
  {
   "cell_type": "markdown",
   "metadata": {},
   "source": [
    "Vamos dar uma olhada nas 5 primeiras amostras da base de dados."
   ]
  },
  {
   "cell_type": "code",
   "execution_count": 2,
   "metadata": {},
   "outputs": [
    {
     "data": {
      "text/html": [
       "<div>\n",
       "<style scoped>\n",
       "    .dataframe tbody tr th:only-of-type {\n",
       "        vertical-align: middle;\n",
       "    }\n",
       "\n",
       "    .dataframe tbody tr th {\n",
       "        vertical-align: top;\n",
       "    }\n",
       "\n",
       "    .dataframe thead th {\n",
       "        text-align: right;\n",
       "    }\n",
       "</style>\n",
       "<table border=\"1\" class=\"dataframe\">\n",
       "  <thead>\n",
       "    <tr style=\"text-align: right;\">\n",
       "      <th></th>\n",
       "      <th>largura_petala</th>\n",
       "      <th>comprimento_petala</th>\n",
       "      <th>classe</th>\n",
       "    </tr>\n",
       "  </thead>\n",
       "  <tbody>\n",
       "    <tr>\n",
       "      <th>0</th>\n",
       "      <td>4.9</td>\n",
       "      <td>3.1</td>\n",
       "      <td>0</td>\n",
       "    </tr>\n",
       "    <tr>\n",
       "      <th>1</th>\n",
       "      <td>4.4</td>\n",
       "      <td>3.0</td>\n",
       "      <td>0</td>\n",
       "    </tr>\n",
       "    <tr>\n",
       "      <th>2</th>\n",
       "      <td>5.7</td>\n",
       "      <td>4.4</td>\n",
       "      <td>0</td>\n",
       "    </tr>\n",
       "    <tr>\n",
       "      <th>3</th>\n",
       "      <td>5.5</td>\n",
       "      <td>4.2</td>\n",
       "      <td>0</td>\n",
       "    </tr>\n",
       "    <tr>\n",
       "      <th>4</th>\n",
       "      <td>4.9</td>\n",
       "      <td>3.1</td>\n",
       "      <td>0</td>\n",
       "    </tr>\n",
       "    <tr>\n",
       "      <th>5</th>\n",
       "      <td>5.5</td>\n",
       "      <td>2.3</td>\n",
       "      <td>1</td>\n",
       "    </tr>\n",
       "  </tbody>\n",
       "</table>\n",
       "</div>"
      ],
      "text/plain": [
       "   largura_petala  comprimento_petala  classe\n",
       "0             4.9                 3.1       0\n",
       "1             4.4                 3.0       0\n",
       "2             5.7                 4.4       0\n",
       "3             5.5                 4.2       0\n",
       "4             4.9                 3.1       0\n",
       "5             5.5                 2.3       1"
      ]
     },
     "metadata": {},
     "output_type": "display_data"
    }
   ],
   "source": [
    "# vamos usar a função display para imprimir o dataframe. \n",
    "# Também poderíamos ter usado a função print: print(df_dataset.head(n=6))\n",
    "display(df_dataset.head(n=6))"
   ]
  },
  {
   "cell_type": "markdown",
   "metadata": {},
   "source": [
    "Vamos guardar os dados dentro de uma matriz e as classes dentro de um vetor."
   ]
  },
  {
   "cell_type": "code",
   "execution_count": 3,
   "metadata": {},
   "outputs": [
    {
     "data": {
      "text/plain": [
       "'X:'"
      ]
     },
     "metadata": {},
     "output_type": "display_data"
    },
    {
     "data": {
      "text/plain": [
       "array([[4.9, 3.1],\n",
       "       [4.4, 3. ],\n",
       "       [5.7, 4.4],\n",
       "       [5.5, 4.2],\n",
       "       [4.9, 3.1]])"
      ]
     },
     "metadata": {},
     "output_type": "display_data"
    },
    {
     "name": "stdout",
     "output_type": "stream",
     "text": [
      "Y: [0 0 0 0 0]\n"
     ]
    }
   ],
   "source": [
    "# pega os valores das n-1 primeiras colunas e guarda em uma matrix X\n",
    "X = df_dataset.iloc[:, 0:-1].values \n",
    "\n",
    "# pega os valores da última coluna e guarda em um vetor Y\n",
    "Y = df_dataset.iloc[:, -1].values \n",
    "\n",
    "# imprime as 5 primeiras linhas da matriz X\n",
    "display('X:', X[0:5,:])\n",
    "\n",
    "# imprime os 5 primeiros valores de Y\n",
    "print('Y:', Y[0:5])"
   ]
  },
  {
   "cell_type": "markdown",
   "metadata": {},
   "source": [
    "Vamos criar uma função para plotar os dados."
   ]
  },
  {
   "cell_type": "code",
   "execution_count": 4,
   "metadata": {},
   "outputs": [
    {
     "data": {
      "text/plain": [
       "<Figure size 1000x800 with 1 Axes>"
      ]
     },
     "metadata": {},
     "output_type": "display_data"
    }
   ],
   "source": [
    "# importando a biblioteca matplotlib\n",
    "import matplotlib.pyplot as plt\n",
    "\n",
    "# criando a função para plotar os dados\n",
    "def visualizarDados(X,Y, nome_classe0, nome_classe1):\n",
    "    \"\"\"\n",
    "    Função usada para plotar os dados\n",
    "    \"\"\"\n",
    "    \n",
    "    #definindo o tamanho da figura \n",
    "    plt.figure(figsize=(10,8))\n",
    "    \n",
    "    # plota os dados da classe 0\n",
    "    plt.scatter( X[Y==0,0], X[Y==0,1], label=nome_classe0, marker='o', color='red', s=80) \n",
    "    \n",
    "    # plota os dados da classe 1\n",
    "    plt.scatter( X[Y==1,0], X[Y==1,1], label=nome_classe1, marker='+', color='blue', s=80) \n",
    "    \n",
    "    # define os nomes do eixo x e do eixo y\n",
    "    plt.xlabel(r'Comprimento da pétala',fontsize='medium') \n",
    "    plt.ylabel(r'Largura da pétala',fontsize='medium') \n",
    "        \n",
    "    # Plota a legenda\n",
    "    plt.legend()\n",
    "\n",
    "    # define o título do gráfico\n",
    "    plt.title('Plot 2D da base de dados Iris', fontsize='x-large')\n",
    "    \n",
    "# chama a função que plota os dados   \n",
    "visualizarDados(X,Y, 'Iris Versicolour (y=0)', 'Iris Setosa (y=1)')\n",
    "\n",
    "# mostra o gráfico usando a função show() da matplotlib\n",
    "plt.show()"
   ]
  },
  {
   "cell_type": "markdown",
   "metadata": {},
   "source": [
    "## Parte 2: Cálculo do Custo e do Gradiente\n",
    "\n",
    "Nesta parte, você usará o método do gradiente descendente para ajustar os parâmetros da regressão logística ($\\theta$) para o conjunto de dados de treinamento.\n",
    "\n",
    "O objetivo do método do gradiente é minimizar a função de custo\n",
    "\n",
    "$$ J(\\theta) = \\frac{1}{m} \\sum_{i=1}^{m} \\left[-y^{(i)} \\log\\left(h_\\theta(x^{(i)})\\right) - \\left(1 - y^{(i)}\\right) \\log\\left(1 - h_\\theta(x^{(i)})\\right) \\right], $$\n",
    "\n",
    "onde a hipótese $h_\\theta(x)$ é determinada pela expressão\n",
    "\n",
    "$$ h_\\theta(x) = g \\left(\\theta^T x \\right), $$\n",
    "\n",
    "sendo que $g(.)$ corresponde à função sigmoidal:\n",
    "\n",
    "$$ g(z) = \\frac{1}{1 + e^{-z}}. $$"
   ]
  },
  {
   "cell_type": "markdown",
   "metadata": {},
   "source": [
    "A seguir, você precisa completar o código que calcula a função sigmoidal $g(z)$. Note que, para $z \\rightarrow +\\infty$, $g(z) \\rightarrow 1$ e para $z \\rightarrow -\\infty$, $g(z) \\rightarrow 0$. Precisamente, $g(0) = 0.5$. Além disso, a sua implementação deverá ser capaz de processar vetores e matrizes de entrada. Para uma matriz, a sua função deverá computar a função sigmoidal para cada elemento."
   ]
  },
  {
   "cell_type": "code",
   "execution_count": 5,
   "metadata": {},
   "outputs": [
    {
     "name": "stdout",
     "output_type": "stream",
     "text": [
      "sigmoid(0) = 0.500\n",
      "\n",
      "sigmoid([0,1]) = [0.500 0.731]\n",
      "\n",
      "sigmoid(z) = \n",
      " [[0.5        0.73105858]\n",
      " [0.26894142 0.5       ]]\n"
     ]
    }
   ],
   "source": [
    "def sigmoid(z):\n",
    "    \"\"\"\n",
    "    Calcula a funcao sigmoidal  \n",
    "    \"\"\"\n",
    "    \n",
    "    # Você precisa retornar a variável g corretamente\n",
    "    #\n",
    "    # se z for um valor inteiro, inicializa g com 0\n",
    "    if isinstance(z, int):\n",
    "        g = 0\n",
    "    \n",
    "    # se z não é um inteiro, significa que é um array e, portanto, inicia com um vetor de zeros com a dimensão do array\n",
    "    else:\n",
    "        g = np.zeros( z.shape );\n",
    "\n",
    "    ########################## COMPLETE O CÓDIGO AQUI  ########################\n",
    "    # Instrucoes: Calcule a sigmoid de cada valor de z \n",
    "    #                (z pode ser uma matriz, vetor ou escalar).\n",
    "    g = 1 / (1 + np.exp(-z))\n",
    "    ##########################################################################\n",
    "    \n",
    "    return g\n",
    "\n",
    "# testando a função sigmoidal\n",
    "\n",
    "# com z sendo um escalar\n",
    "z = sigmoid(0)\n",
    "print('sigmoid(0) = %1.3f\\n' %(z))\n",
    "\n",
    "# com z sendo um vetor\n",
    "z = sigmoid(np.array([0, 1]))\n",
    "print('sigmoid([0,1]) = [%1.3f %1.3f]\\n' %(z[0], z[1]))\n",
    "\n",
    "# com z sendo uma matriz\n",
    "z = sigmoid(np.array([[0, 1],[-1,0]]))\n",
    "print('sigmoid(z) = \\n', z)\n",
    "\n"
   ]
  },
  {
   "cell_type": "markdown",
   "metadata": {},
   "source": [
    "Se a sua implementação estiver correta: \n",
    "\n",
    "$g(0) = 0.500$;\n",
    "\n",
    "$g([0,1]) = \\begin{bmatrix} 0.500 & 0.731 \\end{bmatrix}$; e \n",
    "\n",
    "$g(\\begin{bmatrix} 0 & 1 \\\\ -1 & 0 \\end{bmatrix}) = \\begin{bmatrix} 0.5 & 0.73105858 \\\\ 0.26894142 & 0.5\\end{bmatrix}$."
   ]
  },
  {
   "cell_type": "markdown",
   "metadata": {},
   "source": [
    "A seguir, você precisará implementar a função custo e o método do gradiente para minimizar os valores de $\\theta$. Porém, primeiro, deverão ser inicializadas algumas variáveis importantes, como mostrado abaixo."
   ]
  },
  {
   "cell_type": "code",
   "execution_count": 6,
   "metadata": {},
   "outputs": [],
   "source": [
    "m, n = X.shape # m = qtde de objetos e n = qtde de atributos por objeto\n",
    "\n",
    "X = np.column_stack( (np.ones(m),X) ) # Adiciona uma coluna de 1s em x\n",
    "theta = np.zeros(n+1) # Inicializa os parâmetros que serão ajustados\n",
    "\n",
    "# Algumas configurações do gradiente descente\n",
    "iteracoes = 1500\n",
    "alpha = 0.01"
   ]
  },
  {
   "cell_type": "markdown",
   "metadata": {},
   "source": [
    "Agora, você precisará implementar a função custo $J(\\theta)$ e o gradiente descendente que serão usados pela regressão logística. Complete o código da função **funcaoCusto**. Para isso, lembre-se de que as variáveis $X$ e $y$ não são valores escalares, mas matrizes cujas linhas representam as amostras do conjunto de treinamento.\n",
    "\n",
    "O gradiente da função custo é um vetor de mesma dimensão de $\\theta$, sendo que o $j-$ésimo elemento (para $j = 0, 1, \\ldots, n$) é definido como:\n",
    "\n",
    "$$\\frac{\\partial J(\\theta)}{\\partial \\theta_j} = \\frac{1}{m} \\sum_{i=1}^{m} \\left(h_\\theta(x^{(i)}) - y^{(i)} \\right).x_{j}^{(i)}.$$"
   ]
  },
  {
   "cell_type": "code",
   "execution_count": 7,
   "metadata": {},
   "outputs": [
    {
     "name": "stdout",
     "output_type": "stream",
     "text": [
      "Custo esperado = 0.6931\n",
      "Custo encontrado para theta inicial (zeros) = 0.6931\n",
      "\n",
      "\n",
      "Gradiente esperado = [0.000, -0.239, 0.161]\n",
      "\n",
      "Gradiente encontrado para theta inicial (zeros) = \n",
      "[0.000, -0.239, 0.161]\n"
     ]
    }
   ],
   "source": [
    "def funcaoCusto(theta, X, Y):\n",
    "    \"\"\"\n",
    "    Calcula o custo da regressao logística\n",
    "    \n",
    "       J = COMPUTARCUSTO(X, y, theta) calcula o custo de usar theta como \n",
    "       parametro da regressao logistica para ajustar os dados de X e y    \n",
    "    \"\"\"\n",
    "    \n",
    "    # Initializa algumas variaveis uteis\n",
    "    m = len(Y) #numero de exemplos de treinamento\n",
    "\n",
    "    # Voce precisa retornar as seguintes variaveis corretamente\n",
    "    J = 0;\n",
    "    grad = np.zeros( len(theta) );\n",
    "    \n",
    "    # eps é um parâmetro de tolerância para a função sigmoide \n",
    "    # para evitar erro de precisão numérica, é preciso garantir que 1-sigmoid(theta'*x) >= eps\n",
    "    eps = 1e-15\n",
    "    \n",
    "    ########################## COMPLETE O CÓDIGO AQUI  ########################\n",
    "    # Instrucoes: Calcule o custo de uma escolha particular de theta.\n",
    "    #             Voce precisa armazenar o valor do custo em J.\n",
    "    #             Calcule as derivadas parciais e encontre o valor do gradiente\n",
    "    #             para o custo com relacao ao parametro theta\n",
    "    # Obs: grad deve ter a mesma dimensao de theta\n",
    "    J = (- Y * np.log(sigmoid((X * theta).sum(axis=1)) + eps) - (1 - Y) * np.log(1 - sigmoid((X * theta).sum(axis=1)) + eps)).sum() / m\n",
    "    grad = ((sigmoid((X * theta).sum(axis=1)) - Y) * X.T).sum(axis=1) / m\n",
    "    ##########################################################################\n",
    "    \n",
    "    return J, grad\n",
    "\n",
    "theta = np.zeros(n+1) # Inicializa parâmetros que serao ajustados\n",
    "\n",
    "custo, grad = funcaoCusto(theta, X, Y)\n",
    "print('Custo esperado = 0.6931')\n",
    "print('Custo encontrado para theta inicial (zeros) = %1.4f' %custo)\n",
    "\n",
    "print('\\n\\nGradiente esperado = [0.000, -0.239, 0.161]')\n",
    "print('\\nGradiente encontrado para theta inicial (zeros) = ')\n",
    "print('[%1.3f, %1.3f, %1.3f]' %(grad[0],grad[1],grad[2]))\n"
   ]
  },
  {
   "cell_type": "markdown",
   "metadata": {},
   "source": [
    "## Parte 3: Otimização usando a biblioteca SciPy\n",
    "\n",
    "Para ajustar os parâmetros e minimizar a função de custo de forma eficiente utilizando os gradientes calculados, será empregada a função `minimize` do ScyPy.\n",
    "\n",
    "Observação: é normal que o Python exiba mensagens de aviso informando que houve divisão por 0 durante a execução da função de minimização"
   ]
  },
  {
   "cell_type": "code",
   "execution_count": 8,
   "metadata": {
    "scrolled": true
   },
   "outputs": [
    {
     "name": "stdout",
     "output_type": "stream",
     "text": [
      "Optimization terminated successfully.\n",
      "         Current function value: 0.000021\n",
      "         Iterations: 41\n",
      "         Function evaluations: 44\n",
      "         Gradient evaluations: 44\n",
      "\n",
      "Custo encontrado: 0.000021\n",
      "\n",
      "Custo esperado: 0.000021 (aproximadamente)\n"
     ]
    }
   ],
   "source": [
    "import scipy.optimize  \n",
    "\n",
    "MaxIter = 100 #número máximo de iterações para a minimização da função de custo\n",
    "\n",
    "theta = np.zeros(n+1) # Inicializa parâmetros que serao ajustados\n",
    "\n",
    "# minimiza a funcao de custo\n",
    "result = scipy.optimize.minimize(fun=funcaoCusto, x0=theta, args=(X, Y),  \n",
    "                method='BFGS', jac=True, options={'maxiter': MaxIter, 'disp':True})\n",
    "\n",
    "# coleta os thetas retornados pela função de minimização\n",
    "theta = result.x\n",
    "\n",
    "custo, grad = funcaoCusto(theta, X, Y) \n",
    "\n",
    "print('\\nCusto encontrado: %f\\n' %custo)\n",
    "print('Custo esperado: 0.000021 (aproximadamente)')"
   ]
  },
  {
   "cell_type": "markdown",
   "metadata": {},
   "source": [
    "Agora, será plotado o limite de decisão."
   ]
  },
  {
   "cell_type": "code",
   "execution_count": 9,
   "metadata": {},
   "outputs": [
    {
     "data": {
      "image/png": "[encoded data removed]",
      "text/plain": [
       "<Figure size 720x576 with 1 Axes>"
      ]
     },
     "metadata": {},
     "output_type": "display_data"
    }
   ],
   "source": [
    "# plota os dados de treinamento\n",
    "visualizarDados(X[:,1:],Y, 'Iris Versicolour (y=0)', 'Iris Setosa (y=1)')\n",
    "\n",
    "plot_x = np.array( [np.min(X[:,1])-2,  np.max(X[:,1])+2] )\n",
    "plot_y = np.array( (-1/theta[2])*(theta[1]*plot_x + theta[0]) ) \n",
    "    \n",
    "# plota o regressor encontrado\n",
    "plt.plot( plot_x, plot_y, label = 'Regressor Linear', color='red', linestyle='-', linewidth=1.5) \n",
    "\n",
    "plt.xlim([4,7.1]) # set the xlim \n",
    "plt.ylim([2,4.5]) # set the xlim\n",
    "\n",
    "# coloca a legenda\n",
    "plt.legend()\n",
    "    \n",
    "plt.show()"
   ]
  },
  {
   "cell_type": "markdown",
   "metadata": {},
   "source": [
    "## Parte 4: Predição e desempenho\n",
    "\n",
    "Após ajustados os parâmetros $\\theta$, você poderá usar o classificador para predizer a classe de novos dados. Além disso, você poderá calcular a acurácia do modelo sobre a base de treinamento.\n",
    "\n",
    "Primeiro, complete a função `predicao()`. Essa função deve calcular a predição de $X$ usando um limiar igual a 0.5. Assim, se $g \\left(\\theta^T x \\right) >= 0.5$, então $y = 1$."
   ]
  },
  {
   "cell_type": "code",
   "execution_count": 10,
   "metadata": {},
   "outputs": [
    {
     "name": "stdout",
     "output_type": "stream",
     "text": [
      "\n",
      "Acuracia obtida na base de treinamento: 100.00\n",
      "\n",
      "\n",
      "Acuracia esperada na base de treinamento: 100.00\n",
      "\n"
     ]
    }
   ],
   "source": [
    "def predicao(theta, X):\n",
    "    \"\"\"\n",
    "    Prediz se a entrada pertence a classe 0 ou 1 usando o parametro\n",
    "    theta obtido pela regressao logistica\n",
    "    \n",
    "    p = PREDICAO(theta, X) calcula a predicao de X usando um \n",
    "    limiar igual a 0.5 (ex. se sigmoid(theta'*x) >= 0.5, classe = 1)\n",
    "    \"\"\"   \n",
    "    \n",
    "    # Numero de exemplos de treinamento\n",
    "    m = X.shape[0]\n",
    "    \n",
    "    # Você precisa retornar a seguinte variavel corretamente\n",
    "    p = np.zeros(m, dtype=int) \n",
    "    \n",
    "    \n",
    "    ########################## COMPLETE O CÓDIGO AQUI  ########################\n",
    "    # Instrucoes: Complete o codigo a seguir para fazer predicoes usando\n",
    "    # os paramentros ajustados pela regressao logistica. \n",
    "    # p devera ser um vetor composto somente por 0's e 1's\n",
    "    pred = lambda x: 1 if x >= 0.5 else 0\n",
    "    p = [pred(i) for i in sigmoid((X * theta).sum(axis=1))]\n",
    "    ##########################################################################\n",
    "    \n",
    "    return p\n",
    "\n",
    "# realiza a predição dos dados\n",
    "p = predicao(theta, X)\n",
    "\n",
    "acuracia = np.mean(p == Y) * 100\n",
    "print('\\nAcuracia obtida na base de treinamento: %1.2f\\n' %acuracia);\n",
    "\n",
    "print('\\nAcuracia esperada na base de treinamento: 100.00\\n');"
   ]
  },
  {
   "cell_type": "markdown",
   "metadata": {},
   "source": [
    "## Parte 5: Predizendo a classe de novos dados\n",
    "\n",
    "A seguir, vamos testar um novo exemplo de Iris e verificar qual classe será atribuída pelo método de classificação. Você poderá testar outros valores de comprimento e largura da pétala para ver o resultado da predição."
   ]
  },
  {
   "cell_type": "code",
   "execution_count": 11,
   "metadata": {},
   "outputs": [
    {
     "name": "stdout",
     "output_type": "stream",
     "text": [
      "Classe = Iris Versicolour (y = 0) com probabilidade igual a 100.00%\n"
     ]
    }
   ],
   "source": [
    "comprimento_petala = 4.5\n",
    "largura_petala = 4.5\n",
    "\n",
    "X = np.array( [[1,comprimento_petala,largura_petala]] )\n",
    "\n",
    "# realiza a predição da nova amostra\n",
    "p = predicao(theta, X)\n",
    "\n",
    "prob = sigmoid( np.dot(X, theta ) );\n",
    "\n",
    "if p[0] == 1:\n",
    "    print('Classe = Iris Setosa (y = 1) com probabilidade igual a %f%%' %(prob*100))\n",
    "else:\n",
    "    print('Classe = Iris Versicolour (y = 0) com probabilidade igual a %1.2f%%' %((1-prob)*100))"
   ]
  },
  {
   "cell_type": "markdown",
   "metadata": {},
   "source": [
    "## Parte 6: Carrega exemplo de dados não separáveis linearmente\n",
    "\n",
    "Agora, vamos testar o método usando uma base de dados mais complexa com amostras **normalizadas** de Iris Virginica e Iris Versicolour."
   ]
  },
  {
   "cell_type": "code",
   "execution_count": 12,
   "metadata": {},
   "outputs": [
    {
     "data": {
      "text/html": [
       "<div>\n",
       "<style scoped>\n",
       "    .dataframe tbody tr th:only-of-type {\n",
       "        vertical-align: middle;\n",
       "    }\n",
       "\n",
       "    .dataframe tbody tr th {\n",
       "        vertical-align: top;\n",
       "    }\n",
       "\n",
       "    .dataframe thead th {\n",
       "        text-align: right;\n",
       "    }\n",
       "</style>\n",
       "<table border=\"1\" class=\"dataframe\">\n",
       "  <thead>\n",
       "    <tr style=\"text-align: right;\">\n",
       "      <th></th>\n",
       "      <th>largura_petala</th>\n",
       "      <th>comprimento_petala</th>\n",
       "      <th>classe</th>\n",
       "    </tr>\n",
       "  </thead>\n",
       "  <tbody>\n",
       "    <tr>\n",
       "      <th>0</th>\n",
       "      <td>0.051267</td>\n",
       "      <td>0.69956</td>\n",
       "      <td>1</td>\n",
       "    </tr>\n",
       "    <tr>\n",
       "      <th>1</th>\n",
       "      <td>-0.092742</td>\n",
       "      <td>0.68494</td>\n",
       "      <td>1</td>\n",
       "    </tr>\n",
       "    <tr>\n",
       "      <th>2</th>\n",
       "      <td>-0.213710</td>\n",
       "      <td>0.69225</td>\n",
       "      <td>1</td>\n",
       "    </tr>\n",
       "    <tr>\n",
       "      <th>3</th>\n",
       "      <td>-0.375000</td>\n",
       "      <td>0.50219</td>\n",
       "      <td>1</td>\n",
       "    </tr>\n",
       "    <tr>\n",
       "      <th>4</th>\n",
       "      <td>-0.513250</td>\n",
       "      <td>0.46564</td>\n",
       "      <td>1</td>\n",
       "    </tr>\n",
       "    <tr>\n",
       "      <th>5</th>\n",
       "      <td>-0.524770</td>\n",
       "      <td>0.20980</td>\n",
       "      <td>1</td>\n",
       "    </tr>\n",
       "  </tbody>\n",
       "</table>\n",
       "</div>"
      ],
      "text/plain": [
       "   largura_petala  comprimento_petala  classe\n",
       "0        0.051267             0.69956       1\n",
       "1       -0.092742             0.68494       1\n",
       "2       -0.213710             0.69225       1\n",
       "3       -0.375000             0.50219       1\n",
       "4       -0.513250             0.46564       1\n",
       "5       -0.524770             0.20980       1"
      ]
     },
     "metadata": {},
     "output_type": "display_data"
    }
   ],
   "source": [
    "# Importa o arquivo e guarda em um dataframe do Pandas\n",
    "df_dataset2 = pd.read_csv( 'dados2.csv', sep=',', index_col=None) \n",
    "\n",
    "# Imprime as 6 primeiras amostras\n",
    "display(df_dataset2.head(n=6))"
   ]
  },
  {
   "cell_type": "markdown",
   "metadata": {},
   "source": [
    "Novamente, vamos guardar os dados dentro de uma matriz e as classes dentro de um vetor. As cinco primeiras amostras serão imprimidas."
   ]
  },
  {
   "cell_type": "code",
   "execution_count": 13,
   "metadata": {},
   "outputs": [
    {
     "data": {
      "text/plain": [
       "'X2:'"
      ]
     },
     "metadata": {},
     "output_type": "display_data"
    },
    {
     "data": {
      "text/plain": [
       "array([[ 0.051267,  0.69956 ],\n",
       "       [-0.092742,  0.68494 ],\n",
       "       [-0.21371 ,  0.69225 ],\n",
       "       [-0.375   ,  0.50219 ],\n",
       "       [-0.51325 ,  0.46564 ]])"
      ]
     },
     "metadata": {},
     "output_type": "display_data"
    },
    {
     "name": "stdout",
     "output_type": "stream",
     "text": [
      "Y2: [1 1 1 1 1]\n"
     ]
    }
   ],
   "source": [
    "# Pega os valores das n-1 primeiras colunas e guarda em uma matrix X\n",
    "X2 = df_dataset2.iloc[:, 0:-1].values \n",
    "\n",
    "# Pega os valores da última coluna e guarda em um vetor Y\n",
    "Y2 = df_dataset2.iloc[:, -1].values \n",
    "\n",
    "# Imprime as 5 primeiras linhas da matriz X\n",
    "display('X2:', X2[0:5,:])\n",
    "\n",
    "# Imprime os 5 primeiros valores de Y\n",
    "print('Y2:', Y2[0:5])"
   ]
  },
  {
   "cell_type": "markdown",
   "metadata": {},
   "source": [
    "Os dados serão plotados usando a função definida anteriormente."
   ]
  },
  {
   "cell_type": "code",
   "execution_count": 14,
   "metadata": {},
   "outputs": [
    {
     "data": {
      "image/png": "[encoded data removed]",
      "text/plain": [
       "<Figure size 720x576 with 1 Axes>"
      ]
     },
     "metadata": {
      "needs_background": "light"
     },
     "output_type": "display_data"
    }
   ],
   "source": [
    "# Função que plota os dados   \n",
    "visualizarDados(X2,Y2, 'Iris Versicolour (y=0)', 'Iris Virginica (y=1)')\n",
    "\n",
    "# mostra o gráfico usando a função show() da matplotlib\n",
    "plt.show()"
   ]
  },
  {
   "cell_type": "markdown",
   "metadata": {},
   "source": [
    "Claramente, as amostras não são linearmente separáveis e, portanto, novos atributos polinomiais precisarão ser criados para melhorar o limite de decisão da regressão logística.\n",
    "\n",
    "Abaixo, vamos construir uma função que gera dados polinomiais. Esta função mapeia o vetor original com apenas duas colunas em um vetor transformado com 28 dimensões. Dessa forma, o classificador gerado pela regressão logística será treinado com uma base de dimensão mais elevada e poderá produzir um limite de decisão mais complexo."
   ]
  },
  {
   "cell_type": "code",
   "execution_count": 15,
   "metadata": {},
   "outputs": [
    {
     "name": "stdout",
     "output_type": "stream",
     "text": [
      "Dimensão do novo conjunto de dados polinomiais: \n",
      " (118, 28)\n"
     ]
    }
   ],
   "source": [
    "def atributosPolinomiais(X1,X2):\n",
    "    \"\"\"\n",
    "    Gera atributos polinomiais a partir dos atriburos\n",
    "    originais da base\n",
    "\n",
    "    ATRIBUTOSPOLINOMIAIS(X1, X2) mapeia os dois atributos de entrada\n",
    "    para atributos quadraticos\n",
    " \n",
    "    Retorna um novo vetor de mais atributos:\n",
    "    X1, X2, X1.^2, X2.^2, X1*X2, X1*X2.^2, etc..\n",
    " \n",
    "    As entradas X1, X2 devem ser do mesmo tamanho\n",
    "    \"\"\"\n",
    "    \n",
    "    grau=6\n",
    "    \n",
    "    # se se X1 é um array. Se não for, converte para array\n",
    "    if not isinstance(X1,  np.ndarray):\n",
    "        X1 = np.array( [[X1]] )\n",
    "        X2 = np.array( [[X2]] )\n",
    "        \n",
    "    out = np.ones( len(X1) )\n",
    "    \n",
    "    for i in range( 1,grau+1 ):\n",
    "        for j in range( 0,i+1 ):\n",
    "            out_temp = ( X1**(i-j) ) * (X2**j)\n",
    "            \n",
    "            out = np.column_stack( (out,out_temp) ) # Adicionar uma coluna de 1s em x\n",
    "\n",
    "    return out\n",
    "\n",
    "# atributosPolinomiais adiciona novas colunas que correspondem a atributos polinomiais\n",
    "X2_poli = atributosPolinomiais(X2[:,0],X2[:,1]) \n",
    "\n",
    "print('Dimensão do novo conjunto de dados polinomiais: \\n', X2_poli.shape)\n"
   ]
  },
  {
   "cell_type": "markdown",
   "metadata": {},
   "source": [
    "Se por um lado o mapeamento dos atributos pode aumentar a robustez do classificador, por outro, ele ficará mais suscetível ao super-ajustamento dos dados (*overfitting*). Assim sendo, para resolver esse impasse, você precisará implementar a regressão logística com regularização.\n",
    "\n",
    "## Parte 7: Regressão Logística com Regularização\n",
    "\n",
    "A sua próxima tarefa é completar o código da função `funcaoCustoReg()`. Agora, a equação da regressão logística deverá incorporar a regularização e poderá ser expressa por:\n",
    "\n",
    "$$ J(\\theta) = \\left[ \\frac{1}{m} \\sum_{i=1}^{m} \\left[-y^{(i)} \\log\\left(h_\\theta(x^{(i)})\\right) - \\left(1 - y^{(i)}\\right) \\log\\left(1 - h_\\theta(x^{(i)})\\right) \\right] \\right] + \\frac{\\lambda}{2m} \\sum_{j=1}^{n} \\theta_{j}^2. $$\n",
    "\n",
    "Note que não é preciso regularizar o parâmetro $\\theta_0$. O gradiente da função de custo é um vetor no qual o $j-$ésimo elemento é definido como:\n",
    "\n",
    "$$\\frac{\\partial J(\\theta)}{\\partial \\theta_j}= \n",
    "\\begin{cases}\n",
    "    \\displaystyle \\frac{1}{m} \\sum_{i=1}^{m} \\left(h_\\theta(x^{(i)}) - y^{(i)} \\right).x_{j}^{(i)},& \\text{se } j = 0\\\\\n",
    "    \\displaystyle \\left(\\frac{1}{m} \\sum_{i=1}^{m} \\left(h_\\theta(x^{(i)}) - y^{(i)} \\right).x_{j}^{(i)}\\right) + \\frac{\\lambda}{m} \\theta_j,              & \\text{se } j \\geq 0\\\\\n",
    "\\end{cases}\n",
    "$$"
   ]
  },
  {
   "cell_type": "markdown",
   "metadata": {},
   "source": [
    "A seguir, calcule e exiba o custo inicial e o gradiente para regressão logística com regularização."
   ]
  },
  {
   "cell_type": "code",
   "execution_count": null,
   "metadata": {},
   "outputs": [],
   "source": []
  },
  {
   "cell_type": "code",
   "execution_count": 16,
   "metadata": {},
   "outputs": [
    {
     "name": "stdout",
     "output_type": "stream",
     "text": [
      "\n",
      "Custo esperado = 0.6931\n",
      "\n",
      "Custo encontrado para theta inicial (zeros) = 0.6931\n"
     ]
    }
   ],
   "source": [
    "def funcaoCustoReg(theta, X, Y, lambda_reg):\n",
    "    \"\"\"\n",
    "    Calcula o custo da regressao logística\n",
    "    \n",
    "       J = COMPUTARCUSTO(X, y, theta) calcula o custo de usar theta como \n",
    "       parametro da regressao logistica para ajustar os dados de X e y    \n",
    "    \"\"\"\n",
    "    \n",
    "    # Initializa algumas variaveis uteis\n",
    "    m = len(Y) #numero de exemplos de treinamento\n",
    "\n",
    "    # Voce precisa retornar a seguinte variavel corretamente\n",
    "    J = 0\n",
    "    grad = np.zeros( len(theta) )\n",
    "    \n",
    "    # eps é um parâmetro de tolerância para a função sigmoide \n",
    "    # para evitar erro de precisão numérica, é preciso garantir que 1-sigmoid(theta'*x) >= eps\n",
    "    eps = 1e-15\n",
    "    \n",
    "    \n",
    "    ########################## COMPLETE O CÓDIGO AQUI  ########################\n",
    "    # Instrucoes: Calcule o custo de uma escolha particular de theta.\n",
    "    #             Voce precisa armazenar o valor do custo em J.\n",
    "    #             Calcule as derivadas parciais e encontre o valor do gradiente\n",
    "    #             para o custo com relacao ao parametro theta\n",
    "    # Obs: grad deve ter a mesma dimensao de theta\n",
    "    J = (((- Y * np.log(sigmoid((X * theta).sum(axis=1)) + eps)) - ((1 - Y) * np.log(1 - sigmoid((X * theta).sum(axis=1)) + eps))).sum() / m) + ((lambda_reg / (2*m)) * (theta[1:] ** 2).sum())\n",
    "    grad[1:] = ((((sigmoid((X * theta).sum(axis=1)) - Y) * X.T).sum(axis=1) / m) + ((lambda_reg / m) * theta))[1:]\n",
    "    grad[0] = (((sigmoid((X * theta).sum(axis=1)) - Y) * X.T).sum(axis=1) / m)[0]\n",
    "    ##########################################################################\n",
    "    \n",
    "    return J, grad\n",
    "\n",
    "\n",
    "# inicializa algumas variáveis importantes\n",
    "\n",
    "# m = qtde de objetos e n = qtde de atributos por objeto\n",
    "m, n = X2_poli.shape\n",
    "\n",
    "# Inicializa os parâmetros que serao ajustados\n",
    "theta = np.zeros(n)\n",
    "\n",
    "# Configura o parametro de regularizacao lambda igual a 1\n",
    "lambda_reg = 1\n",
    "\n",
    "custo, grad = funcaoCustoReg(theta, X2_poli, Y2, lambda_reg)\n",
    "print('\\nCusto esperado = 0.6931\\n')\n",
    "print('Custo encontrado para theta inicial (zeros) = %1.4f' %custo)"
   ]
  },
  {
   "cell_type": "markdown",
   "metadata": {},
   "source": [
    "## Parte 8: Regularização e desempenho\n",
    "\n",
    "Nesta etapa, você pode testar diferente valores de lambda e verificar como a regularização afeta o limite de decisão."
   ]
  },
  {
   "cell_type": "code",
   "execution_count": 17,
   "metadata": {},
   "outputs": [
    {
     "name": "stdout",
     "output_type": "stream",
     "text": [
      "Optimization terminated successfully.\n",
      "         Current function value: 0.529003\n",
      "         Iterations: 47\n",
      "         Function evaluations: 48\n",
      "         Gradient evaluations: 48\n",
      "\n",
      "Custo encontrado: 0.529003\n",
      "\n",
      "Custo esperado: 0.529003 (aproximadamente)\n"
     ]
    }
   ],
   "source": [
    "# Configura o parametro de regularizacao lambda igual a 1\n",
    "lambda_reg = 1\n",
    "\n",
    "# Algumas configuracoes do gradiente descente\n",
    "iteracoes = 50\n",
    "theta = np.zeros(n) # Inicializa parâmetros que serao ajustados\n",
    "\n",
    "# minimiza a funcao de custo\n",
    "result = scipy.optimize.minimize(fun=funcaoCustoReg, x0=theta, args=(X2_poli, Y2, lambda_reg),  \n",
    "                method='BFGS', jac=True, options={'maxiter': iteracoes, 'disp':True})\n",
    "\n",
    "# coleta os thetas retornados pela função de minimização\n",
    "theta = result.x\n",
    "\n",
    "custo, grad = funcaoCustoReg(theta, X2_poli, Y2, lambda_reg) \n",
    "\n",
    "print('\\nCusto encontrado: %f\\n' %custo)\n",
    "print('Custo esperado: 0.529003 (aproximadamente)')"
   ]
  },
  {
   "cell_type": "markdown",
   "metadata": {},
   "source": [
    "A seguir, será plotado o limite de decisão do classificador."
   ]
  },
  {
   "cell_type": "code",
   "execution_count": 18,
   "metadata": {},
   "outputs": [
    {
     "data": {
      "image/png": "[encoded data removed]",
      "text/plain": [
       "<Figure size 720x576 with 1 Axes>"
      ]
     },
     "metadata": {
      "needs_background": "light"
     },
     "output_type": "display_data"
    }
   ],
   "source": [
    "# plota os dados de treinamento\n",
    "visualizarDados(X2,Y2, 'Iris Versicolour (y=0)', 'Iris Virginica (y=1)')\n",
    "\n",
    "u = np.linspace(-1, 1.5, 50)\n",
    "v = np.linspace(-1, 1.5, 50)\n",
    "\n",
    "z = np.zeros( [len(u), len(v)] )\n",
    "\n",
    "for i in range( len(u) ):\n",
    "    for j in range( len(v) ):\n",
    "        z[i,j] = np.dot( atributosPolinomiais( u[i], v[j] ),theta);\n",
    "\n",
    "plt.contour(u, v, z, levels=[0], cmap=plt.cm.Paired)\n",
    "\n",
    "    \n",
    "plt.show()"
   ]
  },
  {
   "cell_type": "markdown",
   "metadata": {},
   "source": [
    "Calcula a acurácia obtida na base de treinamento."
   ]
  },
  {
   "cell_type": "code",
   "execution_count": 19,
   "metadata": {},
   "outputs": [
    {
     "name": "stdout",
     "output_type": "stream",
     "text": [
      "\n",
      "Acuracia obtida na base de treinamento: 83.05\n",
      "\n",
      "Acuracia esperada na base de treinamento: 83.05\n",
      "\n"
     ]
    }
   ],
   "source": [
    "# realiza a predição dos dados\n",
    "p = predicao(theta, X2_poli)\n",
    "\n",
    "acuracia = np.mean(p == Y2) * 100\n",
    "print('\\nAcuracia obtida na base de treinamento: %1.2f\\n' %acuracia);\n",
    "print('Acuracia esperada na base de treinamento: 83.05\\n');"
   ]
  },
  {
   "cell_type": "markdown",
   "metadata": {},
   "source": [
    "## Parte 9: Predizendo a classe de novos dados\n",
    "\n",
    "Agora, você pode usar o classificador treinado para predizer a classe de novas amostras (com atributos normalizados)."
   ]
  },
  {
   "cell_type": "code",
   "execution_count": 20,
   "metadata": {},
   "outputs": [
    {
     "name": "stdout",
     "output_type": "stream",
     "text": [
      "Classe = Iris Virginica (y=1) com probabilidade igual a 75.55%\n"
     ]
    }
   ],
   "source": [
    "comprimento_petala_norm = 0.4\n",
    "largura_petala_norm = 0.4\n",
    "\n",
    "X2_novo = np.array( [[comprimento_petala_norm,largura_petala_norm]] )\n",
    "\n",
    "X2_novo_poli = atributosPolinomiais(X2_novo[:,0], X2_novo[:,1])\n",
    "\n",
    "# faz a predição do novo dado\n",
    "p = predicao(theta, X2_novo_poli)\n",
    "\n",
    "prob = sigmoid( np.dot(X2_novo_poli, theta ) );\n",
    "\n",
    "if p[0] == 1:\n",
    "    print('Classe = Iris Virginica (y=1) com probabilidade igual a %1.2f%%' %(prob*100))\n",
    "else:\n",
    "    print('Classe = Iris Versicolour (y = 0) com probabilidade igual a %1.2f%%' %((1-prob)*100))"
   ]
  },
  {
   "cell_type": "code",
   "execution_count": null,
   "metadata": {},
   "outputs": [],
   "source": []
  }
 ],
 "metadata": {
  "kernelspec": {
   "display_name": "Python 3",
   "language": "python",
   "name": "python3"
  },
  "language_info": {
   "codemirror_mode": {
    "name": "ipython",
    "version": 3
   },
   "file_extension": ".py",
   "mimetype": "text/x-python",
   "name": "python",
   "nbconvert_exporter": "python",
   "pygments_lexer": "ipython3",
   "version": "3.6.7"
  }
 },
 "nbformat": 4,
 "nbformat_minor": 2
}
